{
 "cells": [
  {
   "cell_type": "markdown",
   "metadata": {},
   "source": [
    "2020/2021 - MDS-1 - Extracción, Transformación y Carga - Etl"
   ]
  },
  {
   "cell_type": "markdown",
   "metadata": {},
   "source": [
    "Carlos Rodríguez-Viña Martínez"
   ]
  },
  {
   "cell_type": "markdown",
   "metadata": {},
   "source": [
    "# Práctica 1: Generación de ficheros de metadatos y lectura de formatos en python"
   ]
  },
  {
   "cell_type": "markdown",
   "metadata": {},
   "source": [
    "Esta tarea consiste en, buscar información sobre estos formatos (json y yaml), e implementar sendas funciones ya sea en R o en python (recomendado), para poder leer este tipo de ficheros."
   ]
  },
  {
   "cell_type": "markdown",
   "metadata": {},
   "source": [
    "### Formato Yaml"
   ]
  },
  {
   "cell_type": "markdown",
   "metadata": {},
   "source": [
    "YAML (Yet Another Markup Language – Ain’t Markup Language [YAML no es otro lenguaje de marcado]) es un formato de serialización de datos de forma que sea legible por seres humanos.\n",
    "Se inspira en lenguajes como XML, C, Python, Perl, así como el formato para correos electrónicos especificado en RFC 2822.\n",
    "Es case sensitive y normalmente lo encontraremos con la extensión .yml o incluso .yaml."
   ]
  },
  {
   "cell_type": "markdown",
   "metadata": {},
   "source": [
    "Son bastantes, aunque las principales podrían ser las siguientes:\n",
    "\n",
    "    - Los datos de un documento YAML deben ser legibles, imprimibles y utilizando caracteres Unicode, UTF-8 ó UTF-16.\n",
    "    \n",
    "    - Los comentarios se realizan utilizando el carácter # dentro de la línea que contiene el comentario.\n",
    "    \n",
    "    - Los caracteres , y ; deben ir seguidos de un espacio en blanco. De esta forma, se podrán representar valores que        \n",
    "      queramos que tengan esos caracteres.\n",
    "      \n",
    "    - Los espacios en blanco están permitidos, pero no los tabuladores.\n",
    "    \n",
    "    - Las listas comienzan por el caracter – con un valor por cada línea, aunque también se pueden utilizar corchetes [] \n",
    "      poniendo los valores dentro de ellos separados por comas , junto con un espacio en blanco.\n",
    "      \n",
    "    - Un vector estará formado por el par clave/valor, estando separados ambos por : poniendo uno por línea, aunque también \n",
    "      podemos utilizar {} poniendo cada uno de ellos dentro separados por comas , junto con un espacio en blanco.\n",
    "      \n",
    "    - Se pueden utilizar caracteres de escape \\ para representar caracteres especiales.\n",
    "    \n",
    "    - Para incluir múltiples documentos, los separaremos por tres guiones seguidos — e indicando el fin de un documento con \n",
    "      tres puntos seguidos"
   ]
  },
  {
   "cell_type": "markdown",
   "metadata": {},
   "source": [
    "#### Ventajas"
   ]
  },
  {
   "cell_type": "markdown",
   "metadata": {},
   "source": [
    "- YAML admite comentarios, algo que JSON no.\n",
    "- Poder agregar comentarios a un documento puede resultar especialmente útil en determinadas circunstancias.\n",
    "- YAML admite también trabajar con tipos de datos complejos.\n",
    "- Un documento YAML es más fácil de leer y por lo tanto, más sencillo de cambiar.\n",
    "- Un documento YAML es más pequeño que un documento JSON.\n",
    "\n",
    "A modo de ejemplo, un documento JSON de 348 bytes se podría quedar en 198 bytes en YAML.\n",
    "Esto conlleva intrínsecamente varias mejoras adicionales.\n",
    "Un menor tamaño implica un menor uso de ancho de banda y una transmisión y recepción más temprana.\n",
    "En dispositivos pequeños tipo IoT y otros, puede ofrecer ventajas sobre otros tipos de documentos como los JSON.\n",
    "\n",
    "- YAML es un superconjunto de JSON, por lo que un parser de YAML puede parsear también un documento JSON.\n",
    "- Dentro de un documento YAML podemos tener o mezclar un documento JSON.\n",
    "- Un documento YAML podría contener más de un conjunto de datos YAML."
   ]
  },
  {
   "cell_type": "markdown",
   "metadata": {},
   "source": [
    "#### Desventajas"
   ]
  },
  {
   "cell_type": "markdown",
   "metadata": {},
   "source": [
    "- El parser de un documento JSON es más sencillo que el de un documento YAML.\n",
    "- En intercambio de datos, la serialización de JSON es más adecuada que YAML.\n",
    "- Algunos parsers de YAML no tienen un completo soporte a todas las características de YAML de acuerdo a la última   \n",
    "  especificación 1.2.\n",
    "- La complejidad del parser de YAML y tareas de serialización no invita a utilizar YAML en sustitución de JSON.\n"
   ]
  },
  {
   "cell_type": "markdown",
   "metadata": {},
   "source": [
    "### Formato json"
   ]
  },
  {
   "cell_type": "markdown",
   "metadata": {},
   "source": [
    "En Python el formato JSON se puede procesar gracias al paquete json. Este paquete contiene el código que permite transformar los archivos JSON en diccionarios o viceversa.\n",
    "\n",
    "#### El formato JSON\n",
    "\n",
    "JSON es un formato para el intercambio de datos basado en texto. Por lo que es fácil de leer para tanto para una persona como para una maquina. El nombre es un acrónimo de las siglas en inglés de JavaScript Object Notation. Lo que indica que su origen se encuentra vinculado al lenguaje JavaScript. Aunque hoy en día puede ser utilizado desde casi todos los lenguajes de programación. JSON se ha hecho fuerte como alternativa a XML, otro formato de intercambio de datos que requiere más metainformación y, por lo tanto, consume más ancho de banda y recursos.\n",
    "\n",
    "Los datos en los archivos JSON son pares de propiedad valor separados por dos puntos. Estos pares se separan mediante comas y se encierran entre llaves. El valor de una propiedad puede ser otro objeto JSON, lo que ofrece una gran flexibilidad a la hora de estructurar información. Esta estructura de datos recuerda mucho a los diccionarios de Python.\n",
    "\n",
    "#### Escribir archivos JSON con Python\n",
    "La forma más sencilla de generar un archivo JSON desde Python es exportar los datos contenidos en un objeto diccionario. Al igual que los objetos JSON, los objeto diccionarios pueden contener cualquier tipo de datos: valores numéricos, cadena de textos, vectores o cualquier otro tipo de objeto. El código necesario para traducir el diccionario a formato JSON se encuentra disponible en el paquete json.\n",
    "\n"
   ]
  },
  {
   "cell_type": "code",
   "execution_count": 6,
   "metadata": {},
   "outputs": [],
   "source": [
    "import json\n",
    "data = {}\n",
    "data['clients'] = []\n",
    "data['clients'].append({\n",
    "    'first_name': 'Sigrid',\n",
    "    'last_name': 'Mannock',\n",
    "    'age': 27,\n",
    "    'amount': 7.17})\n",
    "data['clients'].append({\n",
    "    'first_name': 'Joe',\n",
    "    'last_name': 'Hinners',\n",
    "    'age': 31,\n",
    "    'amount': [1.90, 5.50]})\n",
    "data['clients'].append({\n",
    "    'first_name': 'Theodoric',\n",
    "    'last_name': 'Rivers',\n",
    "    'age': 36,\n",
    "    'amount': 1.11})\n",
    "with open('data.json', 'w') as file:\n",
    "    json.dump(data, file, indent=4)"
   ]
  },
  {
   "cell_type": "markdown",
   "metadata": {},
   "source": [
    "Al ejecutar este código se genera un archivo data.json en el que se pueden observar los datos. En este archivo todos los datos se encuentran en una única línea, ocupando el mínimo espacio posible. Una ver formateado para facilitar la lectura a las personas se puede observar en la siguiente captura de pantalla."
   ]
  },
  {
   "cell_type": "markdown",
   "metadata": {},
   "source": [
    "#### Leer archivos JSON con Python\n",
    "\n",
    "La lectura de archivos JSON es similar al proceso de escritura. Se ha de abrir un archivo y procesar este utilizando el método json.load. El cual devolverá objeto de tipo diccionario sobre el que se puede iterar. A modo de ejemplo se puede importar el archivo generado anteriormente y sacar los resultados por pantalla utilizando el siguiente código.\n",
    "\n"
   ]
  },
  {
   "cell_type": "code",
   "execution_count": 7,
   "metadata": {},
   "outputs": [
    {
     "name": "stdout",
     "output_type": "stream",
     "text": [
      "First name: Sigrid\n",
      "Last name: Mannock\n",
      "Age: 27\n",
      "Amount: 7.17\n",
      "\n",
      "First name: Joe\n",
      "Last name: Hinners\n",
      "Age: 31\n",
      "Amount: [1.9, 5.5]\n",
      "\n",
      "First name: Theodoric\n",
      "Last name: Rivers\n",
      "Age: 36\n",
      "Amount: 1.11\n",
      "\n"
     ]
    }
   ],
   "source": [
    "with open('data.json') as file:\n",
    "    data = json.load(file)\n",
    "    for client in data['clients']:\n",
    "        print('First name:', client['first_name'])\n",
    "        print('Last name:', client['last_name'])\n",
    "        print('Age:', client['age'])\n",
    "        print('Amount:', client['amount'])\n",
    "        print('')"
   ]
  },
  {
   "cell_type": "markdown",
   "metadata": {},
   "source": [
    "#### Convertir una cadena de texto con JSON en un diccionario\n",
    "\n",
    "Al igual que anteriormente también se puede convertir una cadena de texto que contiene un objeto JSON en un diccionario de Python. Para esto se ha de utilizar el método json.loads. Este método es de gran utilidad cuando como resultado de un servicio web se obtiene una cadena de texto con un objeto JSON, el cual se puede transforma fácilmente en un diccionario.\n",
    "\n",
    "En el siguiente ejemplo se muestra como se procesan los resultados de consultar un API en"
   ]
  },
  {
   "cell_type": "code",
   "execution_count": null,
   "metadata": {},
   "outputs": [],
   "source": [
    "import requests\n",
    "resp = requests.get('http://ip-api.com/json/208.80.152.201')\n",
    "json.loads(resp.content)"
   ]
  },
  {
   "cell_type": "markdown",
   "metadata": {},
   "source": [
    "### Conclusión"
   ]
  },
  {
   "cell_type": "markdown",
   "metadata": {},
   "source": [
    "Así que de acuerdo a los pros y contras que enumeraba, el uso de YAML es muy útil en ficheros de configuración, traducciones y similares, mientras que el uso de JSON lo es en datos serializados y utilizados por ejemplo en APIs.\n",
    "Recordemos que YAML soporta comentarios, lo cuál hace que usar YAML en archivos de configuración adquiera especial relevancia.\n",
    "Así que si lo que vamos a hacer es intercambiar datos, lo más adecuado es utilizar JSON, ya que casi con total seguridad, las ventajas que nos ofrece YAML no las vamos a aprovechar.\n",
    "Así que si te estás planteando sustituir JSON por YAML de facto, no tiene sentido hacerlo.\n",
    "Lo que sí tiene sentido es tener en cuenta las ventajas/desventajas de cada uno y utilizar el que nos interese de acuerdo a nuestras necesidades, pudiendo utilizar ambos dentro de nuestros desarrollos."
   ]
  },
  {
   "cell_type": "markdown",
   "metadata": {},
   "source": [
    "En esta entrada se han presentado algunos de los métodos disponibles en el paquete json para trabajar con archivos JSON con Python. Un formato que cada día se hace más popular en las aplicaciones web, por lo que tener a mano estas herramientas es cada día más importante.\n",
    "\n",
    "El paquete json ofrece las funcionalidades básicas para trabajar con archivos en formato JSON, aunque suficientes en la mayoría de los casos. En los casos en los que este paquete no es suficiente se puede utilizar la alternativa simplejson que es menos estricta en la sintaxis JSON.\n",
    "\n",
    "Lo aprendido en esta entrada permite aumentar el conjunto de herramientas para trabajar con archivos de datos en Python. Completando los archivos CSV que se han visto en una entrada anterior."
   ]
  },
  {
   "cell_type": "markdown",
   "metadata": {},
   "source": [
    "## Ejemplo YAML"
   ]
  },
  {
   "cell_type": "code",
   "execution_count": null,
   "metadata": {},
   "outputs": [],
   "source": [
    "import sys\n",
    "from ruamel.yaml import YAML\n",
    "\n",
    "yaml_str = \"\"\"\\\n",
    "first_name: Art\n",
    "occupation: Architect  # This is an occupation comment\n",
    "about: Art Vandelay is a fictional character that George invents...\n",
    "\"\"\"\n",
    "\n",
    "yaml = YAML()\n",
    "data = yaml.load(yaml_str)\n",
    "data.insert(1, 'last name', 'Vandelay', comment=\"new key\")\n",
    "yaml.dump(data, sys.stdout)"
   ]
  }
 ],
 "metadata": {
  "kernelspec": {
   "display_name": "Python 3",
   "language": "python",
   "name": "python3"
  },
  "language_info": {
   "codemirror_mode": {
    "name": "ipython",
    "version": 3
   },
   "file_extension": ".py",
   "mimetype": "text/x-python",
   "name": "python",
   "nbconvert_exporter": "python",
   "pygments_lexer": "ipython3",
   "version": "3.8.3"
  }
 },
 "nbformat": 4,
 "nbformat_minor": 4
}
